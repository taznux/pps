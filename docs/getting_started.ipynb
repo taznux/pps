{
 "cells": [
  {
   "cell_type": "code",
   "execution_count": 1,
   "metadata": {
    "collapsed": true
   },
   "outputs": [
    {
     "ename": "ModuleNotFoundError",
     "evalue": "No module named 'api'",
     "traceback": [
      "\u001b[0;31m---------------------------------------------------------------------------\u001b[0m",
      "\u001b[0;31mModuleNotFoundError\u001b[0m                       Traceback (most recent call last)",
      "\u001b[0;32m<ipython-input-1-8ad4c2824da3>\u001b[0m in \u001b[0;36m<module>\u001b[0;34m()\u001b[0m\n\u001b[0;32m----> 1\u001b[0;31m \u001b[0;32mfrom\u001b[0m \u001b[0mpyplanscoring\u001b[0m\u001b[0;34m.\u001b[0m\u001b[0mvis\u001b[0m\u001b[0;34m.\u001b[0m\u001b[0mvolumes_view\u001b[0m \u001b[0;32mimport\u001b[0m \u001b[0mplot_contours_mpl\u001b[0m\u001b[0;34m,\u001b[0m \u001b[0mvispy_plot_contours\u001b[0m\u001b[0;34m\u001b[0m\u001b[0m\n\u001b[0m\u001b[1;32m      2\u001b[0m \u001b[0;32mfrom\u001b[0m \u001b[0mpyplanscoring\u001b[0m \u001b[0;32mimport\u001b[0m \u001b[0mPyPlanScoringAPI\u001b[0m\u001b[0;34m,\u001b[0m \u001b[0mplot_dvhs\u001b[0m\u001b[0;34m,\u001b[0m \u001b[0mIOHandler\u001b[0m\u001b[0;34m,\u001b[0m \u001b[0mPyDicomParser\u001b[0m\u001b[0;34m,\u001b[0m \u001b[0mplot_dvh\u001b[0m\u001b[0;34m\u001b[0m\u001b[0m\n\u001b[1;32m      3\u001b[0m \u001b[0;32mfrom\u001b[0m \u001b[0mpyplanscoring\u001b[0m\u001b[0;34m.\u001b[0m\u001b[0mcore\u001b[0m\u001b[0;34m.\u001b[0m\u001b[0mcalculation\u001b[0m \u001b[0;32mimport\u001b[0m \u001b[0mPyStructure\u001b[0m\u001b[0;34m\u001b[0m\u001b[0m\n\u001b[1;32m      4\u001b[0m \u001b[0;32mfrom\u001b[0m \u001b[0mpyplanscoring\u001b[0m\u001b[0;34m.\u001b[0m\u001b[0mvis\u001b[0m\u001b[0;34m.\u001b[0m\u001b[0mslice3\u001b[0m \u001b[0;32mimport\u001b[0m \u001b[0mDoseSlice3D\u001b[0m\u001b[0;34m\u001b[0m\u001b[0m\n\u001b[1;32m      5\u001b[0m \u001b[0;32mfrom\u001b[0m \u001b[0mpyplanscoring\u001b[0m\u001b[0;34m.\u001b[0m\u001b[0mconstraints\u001b[0m\u001b[0;34m.\u001b[0m\u001b[0mmetrics\u001b[0m \u001b[0;32mimport\u001b[0m \u001b[0mDVHMetrics\u001b[0m\u001b[0;34m\u001b[0m\u001b[0m\n",
      "\u001b[0;32m~/Dropbox/Plan_Competition_Project/pyplanscoring/__init__.py\u001b[0m in \u001b[0;36m<module>\u001b[0;34m()\u001b[0m\n\u001b[0;32m----> 1\u001b[0;31m \u001b[0;32mfrom\u001b[0m \u001b[0mapi\u001b[0m \u001b[0;32mimport\u001b[0m \u001b[0mPyPlanScoringAPI\u001b[0m\u001b[0;34m,\u001b[0m \u001b[0mplot_dvh\u001b[0m\u001b[0;34m,\u001b[0m \u001b[0mplot_dvhs\u001b[0m\u001b[0;34m\u001b[0m\u001b[0m\n\u001b[0m\u001b[1;32m      2\u001b[0m \u001b[0;32mfrom\u001b[0m \u001b[0mcore\u001b[0m\u001b[0;34m.\u001b[0m\u001b[0mcalculation\u001b[0m \u001b[0;32mimport\u001b[0m \u001b[0mPyStructure\u001b[0m\u001b[0;34m\u001b[0m\u001b[0m\n\u001b[1;32m      3\u001b[0m \u001b[0;32mfrom\u001b[0m \u001b[0mcore\u001b[0m\u001b[0;34m.\u001b[0m\u001b[0mio\u001b[0m \u001b[0;32mimport\u001b[0m \u001b[0mIOHandler\u001b[0m\u001b[0;34m\u001b[0m\u001b[0m\n\u001b[1;32m      4\u001b[0m \u001b[0;32mfrom\u001b[0m \u001b[0mcore\u001b[0m\u001b[0;34m.\u001b[0m\u001b[0mdicom_reader\u001b[0m \u001b[0;32mimport\u001b[0m \u001b[0mPyDicomParser\u001b[0m\u001b[0;34m\u001b[0m\u001b[0m\n\u001b[1;32m      5\u001b[0m \u001b[0;32mfrom\u001b[0m \u001b[0mcore\u001b[0m\u001b[0;34m.\u001b[0m\u001b[0mtypes\u001b[0m \u001b[0;32mimport\u001b[0m \u001b[0mDoseAccumulation\u001b[0m\u001b[0;34m\u001b[0m\u001b[0m\n",
      "\u001b[0;31mModuleNotFoundError\u001b[0m: No module named 'api'"
     ],
     "output_type": "error"
    }
   ],
   "source": [
    "    from pyplanscoring.vis.volumes_view import plot_contours_mpl, vispy_plot_contours\n",
    "    from pyplanscoring import PyPlanScoringAPI, plot_dvhs, IOHandler, PyDicomParser, plot_dvh\n",
    "    from pyplanscoring.core.calculation import PyStructure\n",
    "    from pyplanscoring.vis.slice3 import DoseSlice3D\n",
    "    from pyplanscoring.constraints.metrics import DVHMetrics\n",
    "    from pyplanscoring.vis.contours3d import plot_structure_contours\n",
    "\n",
    "    # Jupyter notebooks examples\n",
    "    # DVH calculation use-case\n",
    "    # RS file\n",
    "    rs_file = '/home/victor/Dropbox/Plan_Competition_Project/tests/tests_validation/benchmark_data/DVH-Analysis-Data-Etc/STRUCTURES/Cone_30_0.dcm'\n",
    "    # RD file\n",
    "    rd_file = '/home/victor/Dropbox/Plan_Competition_Project/tests/tests_validation/benchmark_data/DVH-Analysis-Data-Etc/DOSE GRIDS/Linear_AntPost_3mm_Aligned.dcm'\n",
    "\n",
    "    pp = PyPlanScoringAPI(rs_file, rd_file)\n",
    "    dvh = pp.get_structure_dvh(roi_number=2, calc_grid=(0.1, 0.1, 0.1))\n",
    "\n",
    "    # plotting DVH\n",
    "\n",
    "    plot_dvh(dvh, '')\n",
    "\n",
    "    # getting constraints\n",
    "    # getting DVH metrics\n",
    "    dvh_metrics = DVHMetrics(dvh)\n",
    "    metrics = ['Min[Gy]',\n",
    "               'Mean[Gy]',\n",
    "               'Max[Gy]',\n",
    "               'D99%[Gy]',\n",
    "               'D95%[Gy]',\n",
    "               'D5%[Gy]',\n",
    "               'D1%[Gy]',\n",
    "               'D0.03cc[Gy]',\n",
    "               'V25.946Gy[cc]']\n",
    "\n",
    "    results = [dvh_metrics.execute_query(metric) for metric in metrics]\n",
    "\n",
    "    # dvhs = pp.calc_dvhs(verbose=True)\n",
    "    # # plotting\n",
    "    # plot_dvhs(dvhs, 'PyPlanScoring')\n",
    "\n",
    "    # saving DVH in JSON serialization format\n",
    "    # obj = IOHandler(dvhs)\n",
    "    # file_path = 'plan_dvhs.dvh'\n",
    "    # obj.to_json_file(file_path)\n",
    "\n",
    "    # Vizualization of contours\n",
    "\n",
    "    # rs_file = '/home/victor/Dropbox/Plan_Competition_Project/tests/tests_validation/benchmark_data/DVH-Analysis-Data-Etc/STRUCTURES/Cone_30_0.dcm'\n",
    "    # rs_dcm = PyDicomParser(filename=rs_file)\n",
    "    # structures = rs_dcm.GetStructures()\n",
    "\n",
    "    # encapsulate data on PyStructure object\n",
    "    # structure = PyStructure(structures[1])\n",
    "\n",
    "    # plot contours using vispy helper method\n",
    "    # plot_structure_contours(structure.point_cloud, structure.name)\n",
    "\n",
    "    # 3d Dose Visualization\n",
    "    # rd_dcm = PyDicomParser(filename=rd_file)\n",
    "    # dose_3d = rd_dcm.get_dose_3d()\n",
    "    # x, y, z = dose_3d.grid\n",
    "    # dose_view = DoseSlice3D(x, y, z, dose_3d.values)\n",
    "    # dose_view.show()\n",
    "\n",
    "    # Dose accumulation example\n"
   ]
  },
  {
   "cell_type": "code",
   "execution_count": null,
   "metadata": {},
   "outputs": [],
   "source": []
  }
 ],
 "metadata": {
  "kernelspec": {
   "display_name": "Python 2",
   "language": "python",
   "name": "python2"
  },
  "language_info": {
   "codemirror_mode": {
    "name": "ipython",
    "version": 2
   },
   "file_extension": ".py",
   "mimetype": "text/x-python",
   "name": "python",
   "nbconvert_exporter": "python",
   "pygments_lexer": "ipython2",
   "version": "2.7.6"
  }
 },
 "nbformat": 4,
 "nbformat_minor": 0
}
